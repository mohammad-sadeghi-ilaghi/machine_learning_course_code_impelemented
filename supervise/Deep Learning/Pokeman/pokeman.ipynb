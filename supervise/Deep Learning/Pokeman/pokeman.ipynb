{
 "cells": [
  {
   "cell_type": "code",
   "execution_count": 1,
   "metadata": {},
   "outputs": [],
   "source": [
    "import numpy as np \n",
    "import pandas as pd \n",
    "import matplotlib.pyplot as plt \n",
    "import os "
   ]
  },
  {
   "cell_type": "markdown",
   "metadata": {},
   "source": [
    "<!-- ! wget 'https://uc93ac1d016061cddd1f42db0640.dl.dropboxusercontent.com/zip_download_get/BxqVe1ph0Ru7XzepJmrH25U7hiT9_vy6fz3Nei2S341J2NTyXilyVxL-8HhkIEuUaotwGpR5DnUGOS9ZMiNAcAbItdaJfypWgaAH1DaKP22SVw?_download_id=9516440861306230556074056436664259133905151178965156883934665879&_notify_domain=www.dropbox.com&dl=1' -O data  -->"
   ]
  },
  {
   "cell_type": "code",
   "execution_count": 3,
   "metadata": {},
   "outputs": [
    {
     "data": {
      "text/plain": [
       "['Pikachu', 'Charmander', 'Bulbasaur']"
      ]
     },
     "execution_count": 3,
     "metadata": {},
     "output_type": "execute_result"
    }
   ],
   "source": [
    "classes = os.listdir('./Train/')\n",
    "classes"
   ]
  },
  {
   "cell_type": "code",
   "execution_count": 6,
   "metadata": {},
   "outputs": [
    {
     "name": "stdout",
     "output_type": "stream",
     "text": [
      "Train dataset: \n",
      "Pikachu - 101\n",
      "Charmander - 102\n",
      "Bulbasaur - 101\n"
     ]
    }
   ],
   "source": [
    "print(\"Train dataset: \")\n",
    "for i in classes:\n",
    "    print(f\"{i} - {len(os.listdir('Train/'+i))}\")"
   ]
  },
  {
   "cell_type": "code",
   "execution_count": 7,
   "metadata": {},
   "outputs": [
    {
     "name": "stdout",
     "output_type": "stream",
     "text": [
      "Train dataset: \n",
      "Pikachu - 40\n",
      "Charmander - 42\n",
      "Bulbasaur - 41\n"
     ]
    }
   ],
   "source": [
    "print(\"Train dataset: \")\n",
    "for i in classes:\n",
    "    print(f\"{i} - {len(os.listdir('Test/'+i))}\")"
   ]
  },
  {
   "cell_type": "code",
   "execution_count": 8,
   "metadata": {},
   "outputs": [],
   "source": [
    "from keras.preprocessing import image"
   ]
  },
  {
   "cell_type": "code",
   "execution_count": 22,
   "metadata": {},
   "outputs": [
    {
     "name": "stderr",
     "output_type": "stream",
     "text": [
      "/home/mohammad/anaconda3/lib/python3.11/site-packages/PIL/Image.py:996: UserWarning: Palette images with Transparency expressed in bytes should be converted to RGBA images\n",
      "  warnings.warn(\n"
     ]
    }
   ],
   "source": [
    "train_data = []\n",
    "train_label = []\n",
    "path = 'Train/'\n",
    "for class_name in classes:\n",
    "    folder = os.path.join(path,class_name)\n",
    "    for image_name in os.listdir(folder):\n",
    "        img = image.load_img(os.path.join(folder, image_name), target_size=(100, 100))\n",
    "        img = image.img_to_array(img)\n",
    "        train_data.append(img)\n",
    "        train_label.append(class_name)"
   ]
  },
  {
   "cell_type": "code",
   "execution_count": 23,
   "metadata": {},
   "outputs": [
    {
     "data": {
      "text/plain": [
       "list"
      ]
     },
     "execution_count": 23,
     "metadata": {},
     "output_type": "execute_result"
    }
   ],
   "source": [
    "type(train_data)"
   ]
  },
  {
   "cell_type": "code",
   "execution_count": 24,
   "metadata": {},
   "outputs": [],
   "source": [
    "train_data = np.array(train_data)\n",
    "train_label = np.array(train_label)"
   ]
  },
  {
   "cell_type": "code",
   "execution_count": 26,
   "metadata": {},
   "outputs": [
    {
     "data": {
      "text/plain": [
       "(304, 30000)"
      ]
     },
     "execution_count": 26,
     "metadata": {},
     "output_type": "execute_result"
    }
   ],
   "source": [
    "train_data = train_data.reshape(len(train_data), 30000)\n",
    "train_data.shape"
   ]
  },
  {
   "cell_type": "code",
   "execution_count": 30,
   "metadata": {},
   "outputs": [
    {
     "data": {
      "text/plain": [
       "(304,)"
      ]
     },
     "execution_count": 30,
     "metadata": {},
     "output_type": "execute_result"
    }
   ],
   "source": [
    "train_label.shape"
   ]
  },
  {
   "cell_type": "code",
   "execution_count": 32,
   "metadata": {},
   "outputs": [],
   "source": [
    "category_labels = {'Pikachu': 0, 'Bulbasaur': 1, 'Charmander': 2}\n",
    "label_category = {0 : 'Pikachu', 1: 'Bulbasaur', 2 : 'Charmander'}"
   ]
  },
  {
   "cell_type": "code",
   "execution_count": null,
   "metadata": {},
   "outputs": [],
   "source": [
    "train_label = np.array([category_labels[i] for i in train_label])"
   ]
  },
  {
   "cell_type": "code",
   "execution_count": 35,
   "metadata": {},
   "outputs": [
    {
     "data": {
      "text/plain": [
       "array([0, 0, 0])"
      ]
     },
     "execution_count": 35,
     "metadata": {},
     "output_type": "execute_result"
    }
   ],
   "source": [
    "train_label[:3]\n"
   ]
  },
  {
   "cell_type": "code",
   "execution_count": 36,
   "metadata": {},
   "outputs": [],
   "source": [
    "from keras.utils import to_categorical"
   ]
  },
  {
   "cell_type": "code",
   "execution_count": 37,
   "metadata": {},
   "outputs": [
    {
     "data": {
      "text/plain": [
       "(304, 3)"
      ]
     },
     "execution_count": 37,
     "metadata": {},
     "output_type": "execute_result"
    }
   ],
   "source": [
    "train_label = to_categorical(train_label)\n",
    "train_label.shape"
   ]
  },
  {
   "cell_type": "code",
   "execution_count": 40,
   "metadata": {},
   "outputs": [],
   "source": [
    "features = train_data.shape[1]"
   ]
  },
  {
   "cell_type": "code",
   "execution_count": 39,
   "metadata": {},
   "outputs": [],
   "source": [
    "from keras.layers import Dense\n",
    "from keras import Sequential"
   ]
  },
  {
   "cell_type": "code",
   "execution_count": 41,
   "metadata": {},
   "outputs": [],
   "source": [
    "model = Sequential()\n",
    "model.add( Dense(units=512, activation='relu', input_shape=(features,)))\n",
    "model.add( Dense(units=256, activation='relu'))\n",
    "model.add( Dense(units=128, activation='relu'))\n",
    "model.add( Dense(units=64, activation='relu'))\n",
    "model.add( Dense(units=3, activation='softmax'))\n",
    "model.compile(optimizer= \"adam\", loss=\"categorical_crossentropy\", metrics=['accuracy'])"
   ]
  },
  {
   "cell_type": "code",
   "execution_count": 42,
   "metadata": {},
   "outputs": [
    {
     "name": "stdout",
     "output_type": "stream",
     "text": [
      "Model: \"sequential\"\n",
      "_________________________________________________________________\n",
      " Layer (type)                Output Shape              Param #   \n",
      "=================================================================\n",
      " dense (Dense)               (None, 512)               15360512  \n",
      "                                                                 \n",
      " dense_1 (Dense)             (None, 256)               131328    \n",
      "                                                                 \n",
      " dense_2 (Dense)             (None, 128)               32896     \n",
      "                                                                 \n",
      " dense_3 (Dense)             (None, 64)                8256      \n",
      "                                                                 \n",
      " dense_4 (Dense)             (None, 3)                 195       \n",
      "                                                                 \n",
      "=================================================================\n",
      "Total params: 15533187 (59.25 MB)\n",
      "Trainable params: 15533187 (59.25 MB)\n",
      "Non-trainable params: 0 (0.00 Byte)\n",
      "_________________________________________________________________\n"
     ]
    }
   ],
   "source": [
    "model.summary()"
   ]
  },
  {
   "cell_type": "code",
   "execution_count": 43,
   "metadata": {},
   "outputs": [
    {
     "name": "stdout",
     "output_type": "stream",
     "text": [
      "Epoch 1/50\n",
      "10/10 [==============================] - 10s 527ms/step - loss: 1720.0316 - accuracy: 0.3684\n",
      "Epoch 2/50\n",
      "10/10 [==============================] - 5s 513ms/step - loss: 1399.7758 - accuracy: 0.3947\n",
      "Epoch 3/50\n",
      "10/10 [==============================] - 4s 425ms/step - loss: 748.7899 - accuracy: 0.5428\n",
      "Epoch 4/50\n",
      "10/10 [==============================] - 4s 434ms/step - loss: 236.5550 - accuracy: 0.6151\n",
      "Epoch 5/50\n",
      "10/10 [==============================] - 4s 434ms/step - loss: 206.9857 - accuracy: 0.6546\n",
      "Epoch 6/50\n",
      "10/10 [==============================] - 4s 447ms/step - loss: 240.5687 - accuracy: 0.5987\n",
      "Epoch 7/50\n",
      "10/10 [==============================] - 4s 435ms/step - loss: 224.9423 - accuracy: 0.6118\n",
      "Epoch 8/50\n",
      "10/10 [==============================] - 5s 492ms/step - loss: 188.5892 - accuracy: 0.6776\n",
      "Epoch 9/50\n",
      "10/10 [==============================] - 5s 514ms/step - loss: 71.7711 - accuracy: 0.7763\n",
      "Epoch 10/50\n",
      "10/10 [==============================] - 6s 556ms/step - loss: 49.0521 - accuracy: 0.8224\n",
      "Epoch 11/50\n",
      "10/10 [==============================] - 5s 508ms/step - loss: 9.3546 - accuracy: 0.9474\n",
      "Epoch 12/50\n",
      "10/10 [==============================] - 4s 444ms/step - loss: 9.1724 - accuracy: 0.9474\n",
      "Epoch 13/50\n",
      "10/10 [==============================] - 5s 472ms/step - loss: 6.7575 - accuracy: 0.9507\n",
      "Epoch 14/50\n",
      "10/10 [==============================] - 5s 491ms/step - loss: 9.4793 - accuracy: 0.9211\n",
      "Epoch 15/50\n",
      "10/10 [==============================] - 5s 505ms/step - loss: 13.7117 - accuracy: 0.9243\n",
      "Epoch 16/50\n",
      "10/10 [==============================] - 5s 501ms/step - loss: 13.4124 - accuracy: 0.9079\n",
      "Epoch 17/50\n",
      "10/10 [==============================] - 5s 483ms/step - loss: 8.2383 - accuracy: 0.9211\n",
      "Epoch 18/50\n",
      "10/10 [==============================] - 5s 514ms/step - loss: 26.9441 - accuracy: 0.8882\n",
      "Epoch 19/50\n",
      "10/10 [==============================] - 5s 479ms/step - loss: 30.5926 - accuracy: 0.8914\n",
      "Epoch 20/50\n",
      "10/10 [==============================] - 5s 495ms/step - loss: 11.8576 - accuracy: 0.9309\n",
      "Epoch 21/50\n",
      "10/10 [==============================] - 5s 537ms/step - loss: 28.9222 - accuracy: 0.8684\n",
      "Epoch 22/50\n",
      "10/10 [==============================] - 6s 553ms/step - loss: 2.9314 - accuracy: 0.9441\n",
      "Epoch 23/50\n",
      "10/10 [==============================] - 5s 491ms/step - loss: 1.5180 - accuracy: 0.9836\n",
      "Epoch 24/50\n",
      "10/10 [==============================] - 4s 435ms/step - loss: 2.2633 - accuracy: 0.9704\n",
      "Epoch 25/50\n",
      "10/10 [==============================] - 5s 460ms/step - loss: 2.2638 - accuracy: 0.9836\n",
      "Epoch 26/50\n",
      "10/10 [==============================] - 5s 514ms/step - loss: 2.3402 - accuracy: 0.9803\n",
      "Epoch 27/50\n",
      "10/10 [==============================] - 5s 519ms/step - loss: 6.6421 - accuracy: 0.9572\n",
      "Epoch 28/50\n",
      "10/10 [==============================] - 5s 495ms/step - loss: 12.8363 - accuracy: 0.9309\n",
      "Epoch 29/50\n",
      "10/10 [==============================] - 5s 509ms/step - loss: 10.8967 - accuracy: 0.9375\n",
      "Epoch 30/50\n",
      "10/10 [==============================] - 5s 506ms/step - loss: 18.0425 - accuracy: 0.9211\n",
      "Epoch 31/50\n",
      "10/10 [==============================] - 5s 502ms/step - loss: 33.0824 - accuracy: 0.8717\n",
      "Epoch 32/50\n",
      "10/10 [==============================] - 4s 438ms/step - loss: 5.1096 - accuracy: 0.9539\n",
      "Epoch 33/50\n",
      "10/10 [==============================] - 4s 430ms/step - loss: 14.7135 - accuracy: 0.9178\n",
      "Epoch 34/50\n",
      "10/10 [==============================] - 4s 442ms/step - loss: 1.1756 - accuracy: 0.9803\n",
      "Epoch 35/50\n",
      "10/10 [==============================] - 5s 457ms/step - loss: 0.8476 - accuracy: 0.9868\n",
      "Epoch 36/50\n",
      "10/10 [==============================] - 4s 438ms/step - loss: 2.4372 - accuracy: 0.9836\n",
      "Epoch 37/50\n",
      "10/10 [==============================] - 4s 442ms/step - loss: 1.7271 - accuracy: 0.9868\n",
      "Epoch 38/50\n",
      "10/10 [==============================] - 5s 462ms/step - loss: 0.1081 - accuracy: 0.9934\n",
      "Epoch 39/50\n",
      "10/10 [==============================] - 4s 436ms/step - loss: 0.3206 - accuracy: 0.9901\n",
      "Epoch 40/50\n",
      "10/10 [==============================] - 5s 467ms/step - loss: 0.2619 - accuracy: 0.9901\n",
      "Epoch 41/50\n",
      "10/10 [==============================] - 5s 493ms/step - loss: 10.3513 - accuracy: 0.9309\n",
      "Epoch 42/50\n",
      "10/10 [==============================] - 5s 499ms/step - loss: 25.6202 - accuracy: 0.9013\n",
      "Epoch 43/50\n",
      "10/10 [==============================] - 5s 501ms/step - loss: 1.4613 - accuracy: 0.9803\n",
      "Epoch 44/50\n",
      "10/10 [==============================] - 5s 494ms/step - loss: 3.0264 - accuracy: 0.9770\n",
      "Epoch 45/50\n",
      "10/10 [==============================] - 4s 429ms/step - loss: 5.6477 - accuracy: 0.9507\n",
      "Epoch 46/50\n",
      "10/10 [==============================] - 4s 404ms/step - loss: 16.7658 - accuracy: 0.9178\n",
      "Epoch 47/50\n",
      "10/10 [==============================] - 4s 388ms/step - loss: 3.9482 - accuracy: 0.9704\n",
      "Epoch 48/50\n",
      "10/10 [==============================] - 5s 463ms/step - loss: 10.0452 - accuracy: 0.9342\n",
      "Epoch 49/50\n",
      "10/10 [==============================] - 5s 536ms/step - loss: 15.4046 - accuracy: 0.9375\n",
      "Epoch 50/50\n",
      "10/10 [==============================] - 4s 445ms/step - loss: 2.6344 - accuracy: 0.9704\n"
     ]
    },
    {
     "data": {
      "text/plain": [
       "<keras.src.callbacks.History at 0x7fb751ea8590>"
      ]
     },
     "execution_count": 43,
     "metadata": {},
     "output_type": "execute_result"
    }
   ],
   "source": [
    "model.fit(train_data, train_label, batch_size=32, epochs=50)"
   ]
  },
  {
   "cell_type": "code",
   "execution_count": 44,
   "metadata": {},
   "outputs": [],
   "source": [
    "test_data = []\n",
    "test_label = []\n",
    "path = 'Test/'\n",
    "for class_name in classes:\n",
    "    folder = os.path.join(path,class_name)\n",
    "    for image_name in os.listdir(folder):\n",
    "        img = image.load_img(os.path.join(folder, image_name), target_size=(100, 100))\n",
    "        img = image.img_to_array(img)\n",
    "        test_data.append(img)\n",
    "        test_label.append(class_name)"
   ]
  },
  {
   "cell_type": "code",
   "execution_count": 45,
   "metadata": {},
   "outputs": [
    {
     "data": {
      "text/plain": [
       "numpy.ndarray"
      ]
     },
     "execution_count": 45,
     "metadata": {},
     "output_type": "execute_result"
    }
   ],
   "source": [
    "type(train_data)"
   ]
  },
  {
   "cell_type": "code",
   "execution_count": 46,
   "metadata": {},
   "outputs": [],
   "source": [
    "test_data = np.array (test_data)\n",
    "test_label = np.array(test_label)"
   ]
  },
  {
   "cell_type": "code",
   "execution_count": 47,
   "metadata": {},
   "outputs": [],
   "source": [
    "test_label = np.array([category_labels[i] for i in test_label])\n",
    "test_label = to_categorical(test_label)"
   ]
  },
  {
   "cell_type": "code",
   "execution_count": 48,
   "metadata": {},
   "outputs": [
    {
     "data": {
      "text/plain": [
       "(123, 30000)"
      ]
     },
     "execution_count": 48,
     "metadata": {},
     "output_type": "execute_result"
    }
   ],
   "source": [
    "test_data = test_data.reshape(len(test_data), 30000)\n",
    "test_data.shape"
   ]
  },
  {
   "cell_type": "code",
   "execution_count": 49,
   "metadata": {},
   "outputs": [
    {
     "name": "stdout",
     "output_type": "stream",
     "text": [
      "4/4 [==============================] - 1s 55ms/step - loss: 44.0520 - accuracy: 0.7805\n"
     ]
    },
    {
     "data": {
      "text/plain": [
       "[44.05198669433594, 0.7804877758026123]"
      ]
     },
     "execution_count": 49,
     "metadata": {},
     "output_type": "execute_result"
    }
   ],
   "source": [
    "model.evaluate(test_data, test_label)"
   ]
  },
  {
   "cell_type": "code",
   "execution_count": 51,
   "metadata": {},
   "outputs": [
    {
     "name": "stdout",
     "output_type": "stream",
     "text": [
      "4/4 [==============================] - 0s 55ms/step\n"
     ]
    }
   ],
   "source": [
    "pred = model.predict(test_data).argmax(axis=1)"
   ]
  },
  {
   "cell_type": "code",
   "execution_count": 52,
   "metadata": {},
   "outputs": [
    {
     "data": {
      "text/plain": [
       "array([2, 2, 2, 2, 2, 2, 2, 2, 2, 0])"
      ]
     },
     "execution_count": 52,
     "metadata": {},
     "output_type": "execute_result"
    }
   ],
   "source": [
    "pred[:10]"
   ]
  },
  {
   "cell_type": "code",
   "execution_count": null,
   "metadata": {},
   "outputs": [],
   "source": []
  }
 ],
 "metadata": {
  "kernelspec": {
   "display_name": "base",
   "language": "python",
   "name": "python3"
  },
  "language_info": {
   "codemirror_mode": {
    "name": "ipython",
    "version": 3
   },
   "file_extension": ".py",
   "mimetype": "text/x-python",
   "name": "python",
   "nbconvert_exporter": "python",
   "pygments_lexer": "ipython3",
   "version": "3.11.5"
  }
 },
 "nbformat": 4,
 "nbformat_minor": 2
}
